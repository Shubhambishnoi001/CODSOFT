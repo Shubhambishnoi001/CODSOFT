{
 "cells": [
  {
   "cell_type": "code",
   "execution_count": 1,
   "id": "350be5b2",
   "metadata": {},
   "outputs": [],
   "source": [
    "import pandas as pd\n",
    "from sklearn.feature_extraction.text import TfidfVectorizer\n",
    "from sklearn.metrics.pairwise import linear_kernel"
   ]
  },
  {
   "cell_type": "code",
   "execution_count": 2,
   "id": "7f60d358",
   "metadata": {},
   "outputs": [],
   "source": [
    "movies = pd.DataFrame({\n",
    "    'Title': ['Movie A', 'Movie B', 'Movie C', 'Movie D'],\n",
    "    'Genre': ['Action', 'Adventure', 'Action|Adventure', 'Drama|Romance']\n",
    "})"
   ]
  },
  {
   "cell_type": "code",
   "execution_count": 3,
   "id": "17254b5e",
   "metadata": {},
   "outputs": [],
   "source": [
    "tfidf_vectorizer = TfidfVectorizer(stop_words='english')"
   ]
  },
  {
   "cell_type": "code",
   "execution_count": 4,
   "id": "d573ad9c",
   "metadata": {},
   "outputs": [],
   "source": [
    "tfidf_matrix = tfidf_vectorizer.fit_transform(movies['Genre'])"
   ]
  },
  {
   "cell_type": "code",
   "execution_count": 5,
   "id": "7258f62a",
   "metadata": {},
   "outputs": [],
   "source": [
    "cosine_sim = linear_kernel(tfidf_matrix, tfidf_matrix)"
   ]
  },
  {
   "cell_type": "code",
   "execution_count": 6,
   "id": "b59e4822",
   "metadata": {},
   "outputs": [],
   "source": [
    "def get_recommendations(title, cosine_sim=cosine_sim):\n",
    "    idx = movies.index[movies['Title'] == title].tolist()[0]\n",
    "    sim_scores = list(enumerate(cosine_sim[idx]))\n",
    "    sim_scores = sorted(sim_scores, key=lambda x: x[1], reverse=True)\n",
    "    sim_scores = sim_scores[1:4]\n",
    "    movie_indices = [i[0] for i in sim_scores]\n",
    "    return movies['Title'].iloc[movie_indices]"
   ]
  },
  {
   "cell_type": "code",
   "execution_count": 7,
   "id": "cd92a772",
   "metadata": {},
   "outputs": [],
   "source": [
    "user_movie = 'Movie A'"
   ]
  },
  {
   "cell_type": "code",
   "execution_count": 8,
   "id": "d6691b6e",
   "metadata": {},
   "outputs": [],
   "source": [
    "recommended_movies = get_recommendations(user_movie)"
   ]
  },
  {
   "cell_type": "code",
   "execution_count": 9,
   "id": "4d894bf2",
   "metadata": {
    "scrolled": false
   },
   "outputs": [
    {
     "name": "stdout",
     "output_type": "stream",
     "text": [
      "Recommended movies for 'Movie A':\n",
      "- Movie C\n",
      "- Movie B\n",
      "- Movie D\n"
     ]
    }
   ],
   "source": [
    "print(f\"Recommended movies for '{user_movie}':\")\n",
    "for movie in recommended_movies:\n",
    "    print(f\"- {movie}\")"
   ]
  }
 ],
 "metadata": {
  "kernelspec": {
   "display_name": "Python 3 (ipykernel)",
   "language": "python",
   "name": "python3"
  },
  "language_info": {
   "codemirror_mode": {
    "name": "ipython",
    "version": 3
   },
   "file_extension": ".py",
   "mimetype": "text/x-python",
   "name": "python",
   "nbconvert_exporter": "python",
   "pygments_lexer": "ipython3",
   "version": "3.11.5"
  }
 },
 "nbformat": 4,
 "nbformat_minor": 5
}
